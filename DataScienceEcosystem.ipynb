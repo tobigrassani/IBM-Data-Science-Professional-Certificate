{
 "cells": [
  {
   "cell_type": "markdown",
   "id": "53521c90-5a0b-4795-86d9-e23b305e5590",
   "metadata": {
    "tags": []
   },
   "source": [
    "# Data Science Tools and Ecosystem"
   ]
  },
  {
   "cell_type": "markdown",
   "id": "5c61aed0-fc86-477c-8030-022676444d69",
   "metadata": {},
   "source": [
    "### In this notebook, Data Science Tools and Ecosystem are summarized."
   ]
  },
  {
   "cell_type": "markdown",
   "id": "c8cb2dd5-375b-4b2a-973d-70410ec079c5",
   "metadata": {},
   "source": [
    "__Objectives:__\n",
    "- List popular languages for Data Science\n",
    "- List commonly used libraries by Data Scientists\n",
    "- Create a code cell with an arithmetc expression"
   ]
  },
  {
   "cell_type": "markdown",
   "id": "fc116ac4-3132-4659-a365-216fd0722e6f",
   "metadata": {},
   "source": [
    "Some of the popular languages that Data Scientists use are:\n",
    "1. Python\n",
    "2. Sql\n",
    "3. R\n",
    "4. Julia\n"
   ]
  },
  {
   "cell_type": "markdown",
   "id": "1b82780a-32b2-47d8-966d-200812484678",
   "metadata": {},
   "source": [
    "Some of the commonly used libraries used by Data Scientists include:\n",
    "\n",
    "1. Pandas\n",
    "2. NumPy\n",
    "3. Scikit\n",
    "4. Seaborn"
   ]
  },
  {
   "cell_type": "markdown",
   "id": "0ac0fda4-7795-4050-8efd-81a51ad99cf1",
   "metadata": {},
   "source": [
    "|Data Science Tools|\n",
    "--------------------\n",
    "|JupyterLab|\n",
    "|VsCode|\n",
    "|Rstudio|"
   ]
  },
  {
   "cell_type": "markdown",
   "id": "61822eee-bf13-45c4-9788-6c952283edbc",
   "metadata": {},
   "source": [
    "<h3>\n",
    "Below are a few examples of evaluating arithmetic expressions in Python\n",
    "</h3>"
   ]
  },
  {
   "cell_type": "markdown",
   "id": "eb14b5d3-0478-4e80-ba3c-aba489730939",
   "metadata": {},
   "source": [
    "This a simple arithmetic expression to mutiply then add integers"
   ]
  },
  {
   "cell_type": "code",
   "execution_count": 1,
   "id": "7847b6d5-a46f-425c-ac56-e0ce06aa0a9a",
   "metadata": {},
   "outputs": [
    {
     "data": {
      "text/plain": [
       "3"
      ]
     },
     "execution_count": 1,
     "metadata": {},
     "output_type": "execute_result"
    }
   ],
   "source": [
    "(3*4)-9"
   ]
  },
  {
   "cell_type": "markdown",
   "id": "39386add-f335-4ffd-bfae-2f812b4e413c",
   "metadata": {},
   "source": [
    " This will convert 200 minutes to hours by diving by 60"
   ]
  },
  {
   "cell_type": "code",
   "execution_count": 1,
   "id": "46427bac-2cf1-4b85-b8b7-aa9600022acc",
   "metadata": {},
   "outputs": [
    {
     "data": {
      "text/plain": [
       "8.333333333333334"
      ]
     },
     "execution_count": 1,
     "metadata": {},
     "output_type": "execute_result"
    }
   ],
   "source": [
    "200/60+5"
   ]
  },
  {
   "cell_type": "markdown",
   "id": "321713e6-d177-43ac-af0e-17a87840f983",
   "metadata": {},
   "source": [
    "## Author:\n",
    "Tobias Grassani"
   ]
  },
  {
   "cell_type": "code",
   "execution_count": null,
   "id": "62fc9e0e-1af2-47ff-a1b2-17e145e9b4ae",
   "metadata": {},
   "outputs": [],
   "source": []
  }
 ],
 "metadata": {
  "kernelspec": {
   "display_name": "Python 3 (ipykernel)",
   "language": "python",
   "name": "python3"
  },
  "language_info": {
   "codemirror_mode": {
    "name": "ipython",
    "version": 3
   },
   "file_extension": ".py",
   "mimetype": "text/x-python",
   "name": "python",
   "nbconvert_exporter": "python",
   "pygments_lexer": "ipython3",
   "version": "3.9.7"
  }
 },
 "nbformat": 4,
 "nbformat_minor": 5
}
